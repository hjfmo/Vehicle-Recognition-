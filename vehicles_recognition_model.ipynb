{
 "cells": [
  {
   "cell_type": "code",
   "execution_count": null,
   "metadata": {},
   "outputs": [],
   "source": [
    "import pandas as pd\n",
    "import numpy as np\n",
    "import matplotlib.pyplot as plt\n",
    "%matplotlib inline\n",
    "import os\n",
    "import glob as gb \n",
    "import cv2\n",
    "import tensorflow as tf\n",
    "import keras"
   ]
  },
  {
   "cell_type": "code",
   "execution_count": null,
   "metadata": {},
   "outputs": [],
   "source": [
    "from tensorflow.keras import datasets , layers , models\n",
    "from tensorflow.keras.preprocessing.image import ImageDataGenerator\n",
    "from tensorflow.keras.preprocessing import image"
   ]
  },
  {
   "cell_type": "code",
   "execution_count": null,
   "metadata": {},
   "outputs": [],
   "source": [
    "train_path = '../input/vehicles-2/Veh_DataSet/train'\n",
    "test_path = '../input/vehicles-2/Veh_DataSet/test'\n",
    "val_path = '../input/vehicles-2/Veh_DataSet/val'"
   ]
  },
  {
   "cell_type": "code",
   "execution_count": null,
   "metadata": {},
   "outputs": [],
   "source": [
    "code = {'airplane' : 0, 'bicycle' : 1 , 'boat' : 2 , 'bus' : 3 , 'car' : 4 ,\n",
    "        'helicopter' : 5 , 'motorcycle' : 6  , 'ship' : 7 , 'train' : 8 , 'truck' : 9 }\n",
    "\n",
    "def getcode(n) : \n",
    "    for x , y in code.items() : \n",
    "        if n == y : \n",
    "            return x  "
   ]
  },
  {
   "cell_type": "code",
   "execution_count": null,
   "metadata": {},
   "outputs": [],
   "source": [
    "for folder in os.listdir(train_path) :\n",
    "    files = gb.glob(pathname = str(train_path + '//' + folder + '/*.jpg'))\n",
    "    print(f'for training data , found {len(files)} in folder {folder}')"
   ]
  },
  {
   "cell_type": "code",
   "execution_count": null,
   "metadata": {},
   "outputs": [],
   "source": [
    "for folder in os.listdir(test_path) :\n",
    "    files = gb.glob(pathname = str(test_path + '//' + folder + '/*.jpg'))\n",
    "    print(f'for testing data , found {len(files)} in folder {folder}')"
   ]
  },
  {
   "cell_type": "code",
   "execution_count": null,
   "metadata": {},
   "outputs": [],
   "source": [
    "#perdiction folder\n",
    "files = gb.glob(pathname = str(val_path +\"/*.jpg\"))\n",
    "\n",
    "print(f'for prediction data , found {len(files)}')"
   ]
  },
  {
   "cell_type": "code",
   "execution_count": null,
   "metadata": {},
   "outputs": [],
   "source": [
    "s = 100"
   ]
  },
  {
   "cell_type": "code",
   "execution_count": null,
   "metadata": {},
   "outputs": [],
   "source": [
    "x_train = []\n",
    "y_train = []\n",
    "\n",
    "\n",
    "for F in  os.listdir(train_path) : \n",
    "    \n",
    "    files = gb.glob(pathname= str( train_path +'//' + F + '/*.jpg'))\n",
    "    \n",
    "    for img in files: \n",
    "        image = cv2.imread(img)\n",
    "        img_arr = cv2.resize(image , (s,s))\n",
    "        x_train.append(list(img_arr))\n",
    "        y_train.append(code[F])"
   ]
  },
  {
   "cell_type": "code",
   "execution_count": null,
   "metadata": {},
   "outputs": [],
   "source": [
    "#x_train"
   ]
  },
  {
   "cell_type": "code",
   "execution_count": null,
   "metadata": {},
   "outputs": [],
   "source": [
    "#m = img_array.shape\n",
    "#print(m)"
   ]
  },
  {
   "cell_type": "code",
   "execution_count": null,
   "metadata": {},
   "outputs": [],
   "source": [
    "      "
   ]
  },
  {
   "cell_type": "code",
   "execution_count": null,
   "metadata": {},
   "outputs": [],
   "source": [
    "x_test = []\n",
    "y_test = []\n",
    "\n",
    "\n",
    "for F in  os.listdir(train_path) : \n",
    "    \n",
    "    files = gb.glob(pathname= str( test_path +'//' + F + '/*.jpg'))\n",
    "    \n",
    "    for img in files: \n",
    "        image = cv2.imread(img)\n",
    "            img_arr = cv2.resize(image , (s,s))\n",
    "        x_test.append(list(img_arr))\n",
    "        y_test.append(code[F])"
   ]
  },
  {
   "cell_type": "code",
   "execution_count": null,
   "metadata": {},
   "outputs": [],
   "source": [
    "#x_test"
   ]
  },
  {
   "cell_type": "code",
   "execution_count": null,
   "metadata": {},
   "outputs": [],
   "source": [
    "print(len(x_test))"
   ]
  },
  {
   "cell_type": "code",
   "execution_count": null,
   "metadata": {},
   "outputs": [],
   "source": [
    "plt.figure(figsize=(20,20))\n",
    "for n , i in enumerate(list(np.random.randint(0,len(x_test),81))) : \n",
    "    plt.subplot(9,9,n+1)\n",
    "    plt.imshow(x_test[i])   \n",
    "    plt.title(getcode(y_test[i]))\n",
    "    plt.axis('off')"
   ]
  },
  {
   "cell_type": "code",
   "execution_count": null,
   "metadata": {},
   "outputs": [],
   "source": [
    "x_pred = []\n",
    "files = gb.glob(pathname = str(val_path +\"/*.jpg\"))\n",
    "for i in files: \n",
    "    img = cv2.imread(i)\n",
    "    #if image is None :\n",
    "        #break\n",
    "    img_arr = cv2.resize(img ,(s,s))\n",
    "    x_pred.append(list(img_arr))   \n"
   ]
  },
  {
   "cell_type": "code",
   "execution_count": null,
   "metadata": {},
   "outputs": [],
   "source": [
    "#x_pred"
   ]
  },
  {
   "cell_type": "code",
   "execution_count": null,
   "metadata": {},
   "outputs": [],
   "source": [
    "plt.figure(figsize=(20,20))\n",
    "for n , i in enumerate(list(np.random.randint(0,len(x_pred),81))) : \n",
    "    plt.subplot(9,9,n+1)\n",
    "    plt.imshow(x_pred[i])    \n",
    "    plt.axis('off')-\n",
    "    \n",
    "    \n",
    "    \n",
    "    \n",
    "    \n",
    "    \n",
    "    \n",
    "    \n",
    "    \n",
    "    \n",
    "    "
   ]
  },
  {
   "cell_type": "code",
   "execution_count": null,
   "metadata": {},
   "outputs": [],
   "source": [
    "train = ImageDataGenerator(rescale = 1/255)\n",
    "validate = ImageDataGenerator(rescale = 1/255)"
   ]
  },
  {
   "cell_type": "code",
   "execution_count": null,
   "metadata": {},
   "outputs": [],
   "source": [
    "train_dataset = train.flow_from_directory(train_path ,\n",
    "                                          target_size =(200,200),\n",
    "                                          batch_size = 20)"
   ]
  },
  {
   "cell_type": "code",
   "execution_count": null,
   "metadata": {},
   "outputs": [],
   "source": [
    "vaildation_dataset = train.flow_from_directory(test_path ,\n",
    "                                          target_size =(200,200),\n",
    "                                          batch_size = 20)"
   ]
  },
  {
   "cell_type": "code",
   "execution_count": null,
   "metadata": {},
   "outputs": [],
   "source": [
    "train_dataset.class_indices"
   ]
  },
  {
   "cell_type": "code",
   "execution_count": null,
   "metadata": {},
   "outputs": [],
   "source": [
    "vaildation_dataset.class_indices"
   ]
  },
  {
   "cell_type": "code",
   "execution_count": null,
   "metadata": {},
   "outputs": [],
   "source": [
    "x_train_arr = np.array(x_train)\n",
    "x_test_arr = np.array(x_test)\n",
    "x_pred_arr = np.array(x_pred)\n",
    "y_train_arr = np.array(y_train)\n",
    "y_test_arr = np.array(y_test)\n",
    "\n",
    "\n",
    "print(f'X_train shape  is {x_train_arr.shape}')\n",
    "print(f'X_test shape  is {x_test_arr.shape}')\n",
    "print(f'X_pred shape  is {x_pred_arr.shape}')\n",
    "print(f'y_train shape  is {y_train_arr.shape}')\n",
    "print(f'y_test shape  is {y_test_arr.shape}')\n",
    "print(type(x_train))"
   ]
  },
  {
   "cell_type": "code",
   "execution_count": null,
   "metadata": {},
   "outputs": [],
   "source": [
    "#train_image = tf.keras.utils.normalize(x_train_arr,axis =1)      \n",
    "#test_image = tf.keras.utils.normalize(x_test_arr, axis =1)\n",
    "x_train_arr = x_train_arr/255.0\n",
    "x_test_arr = x_test_arr/255.0"
   ]
  },
  {
   "cell_type": "code",
   "execution_count": null,
   "metadata": {},
   "outputs": [],
   "source": [
    "from keras.models import Sequential\n",
    "from keras.layers import Dense, Dropout, Flatten\n",
    "from keras.layers import Conv2D, MaxPooling2D\n",
    "\n",
    "model =Sequential()\n",
    "model.add(Conv2D(200, kernel_size=(3, 3),activation='relu',input_shape=(s,s,3)))\n",
    "model.add(Conv2D(150, (3, 3), activation='relu'))\n",
    "model.add(MaxPooling2D((4, 4)))\n",
    "model.add(Conv2D(120, (3, 3), activation='relu'))\n",
    "model.add(Conv2D(80, (3, 3), activation='relu'))\n",
    "model.add(Dropout(0.4))\n",
    "model.add(Conv2D(50, (3, 3), activation='relu'))\n",
    "model.add(MaxPooling2D(pool_size=(4, 4)))"
   ]
  },
  {
   "cell_type": "code",
   "execution_count": null,
   "metadata": {},
   "outputs": [],
   "source": [
    "model.add(Flatten())\n",
    "model.add(Dense(128, activation='relu'))\n",
    "model.add(Dropout(0.2))\n",
    "model.add(Dense(256, activation='relu'))\n",
    "model.add(Dropout(0.6) )\n",
    "model.add(Dense(128, activation='relu'))\n",
    "\n",
    "model.add(Dense(10, activation='softmax'))"
   ]
  },
  {
   "cell_type": "code",
   "execution_count": null,
   "metadata": {},
   "outputs": [],
   "source": [
    "\n",
    "model.compile(optimizer='adam', loss='sparse_categorical_crossentropy', metrics = ['accuracy'])"
   ]
  },
  {
   "cell_type": "code",
   "execution_count": null,
   "metadata": {},
   "outputs": [],
   "source": [
    "\n",
    "model.compile(optimizer='adam', loss='sparse_categorical_crossentropy', metrics = ['accuracy'])"
   ]
  },
  {
   "cell_type": "code",
   "execution_count": null,
   "metadata": {},
   "outputs": [],
   "source": [
    "print(model.summary())"
   ]
  },
  {
   "cell_type": "code",
   "execution_count": null,
   "metadata": {},
   "outputs": [],
   "source": [
    "v_model = model.fit(x_train_arr,y_train_arr,epochs = 50 , batch_size=100 ,verbose=1)"
   ]
  },
  {
   "cell_type": "code",
   "execution_count": null,
   "metadata": {},
   "outputs": [],
   "source": [
    "V_Loss, V_Accuracy = model.evaluate(x_test_arr,y_test_arr)\n",
    "\n",
    "\n",
    "print('Test_Loss = ', V_Loss)\n",
    "\n",
    "print('==============================================')\n",
    "\n",
    "print('Test_Accuracy =', V_Accuracy )"
   ]
  },
  {
   "cell_type": "code",
   "execution_count": null,
   "metadata": {},
   "outputs": [],
   "source": [
    "#perdict \n",
    "actual_val = model.predict(x_pred_arr)"
   ]
  },
  {
   "cell_type": "code",
   "execution_count": null,
   "metadata": {},
   "outputs": [],
   "source": [
    "print (actual_val.shape)"
   ]
  },
  {
   "cell_type": "code",
   "execution_count": null,
   "metadata": {},
   "outputs": [],
   "source": [
    "#هنعرض شوية صور عشان نشوف النتيجة صح ولا غلط\n",
    "plt.figure(figsize=(20,20))\n",
    "for n , i in enumerate(list(np.random.randint(0,len(x_pred),81))) : \n",
    "    plt.subplot(9,9,n+1)\n",
    "    plt.imshow(x_pred[i])    \n",
    "    plt.axis('off')\n",
    "  #argmax عشان ابعتلو اكبر قيمة طلعت في السوفت ماكس\n",
    "plt.title(getcode(np.argmax(actual_val[i])))"
   ]
  },
  {
   "cell_type": "code",
   "execution_count": null,
   "metadata": {},
   "outputs": [],
   "source": [
    "print(type(v_model))\n",
    "print(type(V_Loss))\n",
    "print(type(model))\n",
    "\n",
    "print()"
   ]
  },
  {
   "cell_type": "code",
   "execution_count": null,
   "metadata": {},
   "outputs": [],
   "source": [
    "model.save_weights(\"model.h5\")"
   ]
  },
  {
   "cell_type": "code",
   "execution_count": null,
   "metadata": {},
   "outputs": [],
   "source": []
  },
  {
   "cell_type": "code",
   "execution_count": null,
   "metadata": {},
   "outputs": [],
   "source": []
  },
  {
   "cell_type": "code",
   "execution_count": null,
   "metadata": {},
   "outputs": [],
   "source": []
  },
  {
   "cell_type": "code",
   "execution_count": null,
   "metadata": {},
   "outputs": [],
   "source": []
  }
 ],
 "metadata": {
  "kernelspec": {
   "display_name": "Python 3 (ipykernel)",
   "language": "python",
   "name": "python3"
  },
  "language_info": {
   "codemirror_mode": {
    "name": "ipython",
    "version": 3
   },
   "file_extension": ".py",
   "mimetype": "text/x-python",
   "name": "python",
   "nbconvert_exporter": "python",
   "pygments_lexer": "ipython3",
   "version": "3.10.9"
  }
 },
 "nbformat": 4,
 "nbformat_minor": 4
}
